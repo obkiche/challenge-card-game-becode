{
 "cells": [
  {
   "cell_type": "markdown",
   "metadata": {},
   "source": [
    "# Drill - Threading\n",
    "\n"
   ]
  },
  {
   "cell_type": "markdown",
   "metadata": {},
   "source": [
    "### Exercise 1\n",
    "In the `data/` folder, you have 10 files that contain Shakespears sonnets. You have to gather all these files into one file `data_all.txt` using threads. Be careful, the sonnets must appear in order."
   ]
  },
  {
   "cell_type": "code",
   "execution_count": 81,
   "metadata": {},
   "outputs": [
    {
     "name": "stdout",
     "output_type": "stream",
     "text": [
      "['.ipynb_checkpoints', 'data_all.txt', 'data_part_1.txt', 'data_part_10.txt', 'data_part_2.txt', 'data_part_3.txt', 'data_part_4.txt', 'data_part_5.txt', 'data_part_6.txt', 'data_part_7.txt', 'data_part_8.txt', 'data_part_9.txt']\n",
      "+++++++++++++++++\n",
      "data/.ipynb_checkpoints\n",
      "File 0 is being processed...\n",
      "data/.ipynb_checkpoints\n"
     ]
    },
    {
     "name": "stderr",
     "output_type": "stream",
     "text": [
      "Exception in thread Thread-392:\n",
      "Traceback (most recent call last):\n",
      "  File \"C:\\ProgramData\\Anaconda2\\lib\\threading.py\", line 801, in __bootstrap_inner\n",
      "    self.run()\n",
      "  File \"<ipython-input-81-a20e7b75c780>\", line 19, in run\n",
      "    with open (self.file_name, 'r') as myfile1, open(\"data/data_all.txt\", 'a') as myfile2:\n",
      "IOError: [Errno 13] Permission denied: 'data/.ipynb_checkpoints'\n",
      "\n"
     ]
    },
    {
     "name": "stdout",
     "output_type": "stream",
     "text": [
      "data/data_all.txt\n",
      "File 1 is being processed...\n",
      "data/data_all.txt\n",
      "data/data_part_1.txt\n",
      "File 2 is being processed...\n",
      "data/data_part_1.txt\n",
      "data/data_part_10.txt\n",
      "File 3 is being processed...\n",
      "data/data_part_10.txt\n",
      "data/data_part_2.txt\n",
      "File 4 is being processed...\n",
      "data/data_part_2.txt\n",
      "data/data_part_3.txt\n",
      "File 5 is being processed...\n",
      "data/data_part_3.txt\n",
      "data/data_part_4.txt\n",
      "File 6 is being processed...\n",
      "data/data_part_4.txt\n",
      "data/data_part_5.txt\n",
      "File 7 is being processed...\n",
      "data/data_part_5.txt\n",
      "data/data_part_6.txt\n",
      "File 8 is being processed...\n",
      "data/data_part_6.txt\n",
      "data/data_part_7.txt\n",
      "File 9 is being processed...\n",
      "data/data_part_7.txt\n",
      "data/data_part_8.txt\n",
      "File 10 is being processed...\n",
      "data/data_part_8.txt\n",
      "data/data_part_9.txt\n",
      "File 11 is being processed...\n",
      "data/data_part_9.txt\n",
      "('Ex time: ', 48.253)\n",
      "done\n"
     ]
    }
   ],
   "source": [
    "from threading import Thread, RLock\n",
    "from time import sleep\n",
    "from datetime import datetime\n",
    "\n",
    "lock = RLock()\n",
    "\n",
    "class SyncThread(Thread):\n",
    "    def __init__(self, index, file_name):\n",
    "        Thread.__init__(self)\n",
    "        self.file_name = file_name\n",
    "        self.index = index\n",
    "        \n",
    "    def run(self):\n",
    "        \n",
    "        print (self.file_name)\n",
    "        time.sleep(4)\n",
    "        with lock:\n",
    "            \n",
    "            with open (self.file_name, 'r') as myfile1, open(\"data/data_all.txt\", 'a') as myfile2:\n",
    "                content = myfile1.read()\n",
    "                myfile2.write(content)\n",
    "            \n",
    "                \n",
    "                \n",
    "import os\n",
    "mylist = os.listdir('data/')\n",
    "print(mylist)\n",
    "mylist.sort()\n",
    "#(key=lambda x: int(\"\".join([i for i in x if i.isdigit()])))\n",
    "\n",
    "\n",
    "#f: int(''.join(filter(str.isdigit, f))))\n",
    "\n",
    "\n",
    "print (\"+++++++++++++++++\")\n",
    "\n",
    "\n",
    "threads = []\n",
    "st = datetime.now()\n",
    "\n",
    "for idx, data in enumerate(mylist):\n",
    "    filename = \"data/\"+ data\n",
    "    print filename\n",
    "    thread = SyncThread(idx, filename)\n",
    "    print(\"File {} is being processed...\".format(idx))\n",
    "    threads.append(thread)\n",
    "    thread.start()\n",
    "    thread.join()\n",
    "    \n",
    "\n",
    "nd = datetime.now()\n",
    "print (\"Ex time: \", (nd - st).total_seconds())\n",
    "        \n",
    "print(\"done\")\n",
    "    \n",
    "        "
   ]
  },
  {
   "cell_type": "markdown",
   "metadata": {},
   "source": [
    "### Exercise 2\n",
    "Scrap all the web pages in the `urls` list and display the links. 1 thread per link. "
   ]
  },
  {
   "cell_type": "code",
   "execution_count": 64,
   "metadata": {},
   "outputs": [],
   "source": [
    "from threading import Thread, RLock\n",
    "from bs4 import BeautifulSoup\n",
    "import requests\n",
    "from time import sleep\n",
    "\n",
    "class MyThread(Thread):\n",
    "    def __init__(self, url):\n",
    "        Thread.__init__(self)\n",
    "        self.url = url\n",
    "\n",
    "    def run(self):\n",
    "        print(self.url)\n",
    "        time.sleep(4)\n",
    "        r = requests.get(url)\n",
    "        print(url, r.status_code)\n",
    "        soup = BeautifulSoup(r.content, \"lxml\")\n",
    "        soup\n",
    "\n",
    "urls = [\n",
    "    \"http://www.python.org\",\n",
    "    \"http://www.python.org/about/\",\n",
    "    \"http://www.onlamp.com/pub/a/python/2003/04/17/metaclasses.html\",\n",
    "    \"http://www.python.org/doc/\",\n",
    "    \"http://www.python.org/download/\",\n",
    "    \"http://www.python.org/getit/\",\n",
    "    \"http://www.python.org/community/\",\n",
    "    \n",
    "]\n",
    "\n"
   ]
  },
  {
   "cell_type": "code",
   "execution_count": 80,
   "metadata": {},
   "outputs": [
    {
     "name": "stdout",
     "output_type": "stream",
     "text": [
      "http://www.python.org\n",
      "http://www.python.org\n",
      "('http://www.python.org', 200)\n",
      "http://www.python.org/about/\n",
      "http://www.python.org/about/\n",
      "('http://www.python.org/about/', 200)\n",
      "http://www.onlamp.com/pub/a/python/2003/04/17/metaclasses.html\n",
      "http://www.onlamp.com/pub/a/python/2003/04/17/metaclasses.html\n",
      "('http://www.onlamp.com/pub/a/python/2003/04/17/metaclasses.html', 200)\n",
      "http://www.python.org/doc/\n",
      "http://www.python.org/doc/\n",
      "('http://www.python.org/doc/', 200)\n",
      "http://www.python.org/download/\n",
      "http://www.python.org/download/\n",
      "('http://www.python.org/download/', 200)\n",
      "http://www.python.org/getit/\n",
      "http://www.python.org/getit/\n",
      "('http://www.python.org/getit/', 200)\n",
      "http://www.python.org/community/\n",
      "http://www.python.org/community/\n",
      "('http://www.python.org/community/', 200)\n",
      "26\n",
      "-----------\n",
      "[<SyncThread(Thread-366, stopped 31680)>, <SyncThread(Thread-367, stopped 20956)>, <SyncThread(Thread-368, stopped 29788)>, <SyncThread(Thread-369, stopped 12196)>, <SyncThread(Thread-370, stopped 24868)>, <SyncThread(Thread-371, stopped 32368)>, <SyncThread(Thread-372, stopped 27928)>, <SyncThread(Thread-373, stopped 27944)>, <SyncThread(Thread-374, stopped 31868)>, <SyncThread(Thread-375, stopped 27004)>, <SyncThread(Thread-376, stopped 25076)>, <SyncThread(Thread-377, stopped 29848)>, <MyThread(Thread-378, stopped 27468)>, <MyThread(Thread-379, stopped 20988)>, <MyThread(Thread-380, stopped 7308)>, <MyThread(Thread-381, stopped 25820)>, <MyThread(Thread-382, stopped 29772)>, <MyThread(Thread-383, stopped 21432)>, <MyThread(Thread-384, stopped 31260)>, <MyThread(Thread-385, stopped 14264)>, <MyThread(Thread-386, stopped 29408)>, <MyThread(Thread-387, stopped 32700)>, <MyThread(Thread-388, stopped 21700)>, <MyThread(Thread-389, stopped 26952)>, <MyThread(Thread-390, stopped 27976)>, <MyThread(Thread-391, stopped 30012)>]\n"
     ]
    }
   ],
   "source": [
    "thread = []\n",
    "\n",
    "for idx, url in enumerate(urls):\n",
    "    \n",
    "    print url\n",
    "    thread = MyThread(url)\n",
    "    \n",
    "    threads.append(thread)\n",
    "    thread.start()\n",
    "    thread.join()\n",
    "    \n",
    "    \n",
    "print(len(threads))\n",
    "print(\"-----------\")\n",
    "print(threads)\n",
    "\n",
    "\n"
   ]
  },
  {
   "cell_type": "code",
   "execution_count": null,
   "metadata": {},
   "outputs": [],
   "source": []
  }
 ],
 "metadata": {
  "file_extension": ".py",
  "kernelspec": {
   "display_name": "Python 2",
   "language": "python",
   "name": "python2"
  },
  "language_info": {
   "codemirror_mode": {
    "name": "ipython",
    "version": 2
   },
   "file_extension": ".py",
   "mimetype": "text/x-python",
   "name": "python",
   "nbconvert_exporter": "python",
   "pygments_lexer": "ipython2",
   "version": "2.7.16"
  },
  "mimetype": "text/x-python",
  "name": "python",
  "npconvert_exporter": "python",
  "pygments_lexer": "ipython3",
  "version": 3
 },
 "nbformat": 4,
 "nbformat_minor": 2
}
