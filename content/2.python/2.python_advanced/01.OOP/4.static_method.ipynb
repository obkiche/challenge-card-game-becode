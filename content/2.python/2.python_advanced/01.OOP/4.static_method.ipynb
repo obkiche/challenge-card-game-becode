{
 "cells": [
  {
   "cell_type": "markdown",
   "metadata": {},
   "source": [
    "# What is a static method in python?\n",
    "\n",
    "Static methods are methods within a class that have no access to anything else in the class (no `self` keyword or `cls` keyword). \n",
    "\n",
    "- They cannot change or look at any object attributes or call other methods within the class. \n",
    "- They can be thought of as a special kind of function that sits inside of the class. \n",
    "- When we create a static method we must use something called a [decorator](https://realpython.com/primer-on-python-decorators/#syntactic-sugar). The decorator for a static method is `@staticmethod`. Don't worry about it, you will see more about it later in the course.\n",
    "\n",
    "In other words, you can create a callable class using the static method and use it with some restrictions. It helps developers write code in a safe architectural way to prevent conflicts in the code.\n",
    "\n",
    "(We'll go deeper into the decorators later.)"
   ]
  },
  {
   "cell_type": "code",
   "execution_count": null,
   "metadata": {},
   "outputs": [],
   "source": [
    "class Calculator:\n",
    "    \"\"\"\n",
    "    Class that contains methods to perform basic operations.\n",
    "    \"\"\"\n",
    "\n",
    "    @staticmethod\n",
    "    def multiply(number_one, number_two):\n",
    "        result = number_one * number_two\n",
    "        print(f\"Muliply: {result}\")\n",
    "\n",
    "    @staticmethod\n",
    "    def add(number_one, number_two):\n",
    "        result = number_one + number_two\n",
    "        print(f\"Addition: {result}\")"
   ]
  },
  {
   "cell_type": "code",
   "execution_count": null,
   "metadata": {},
   "outputs": [],
   "source": [
    "Calculator.multiply(2, 5)\n",
    "\n",
    "Calculator.add(2, 5)"
   ]
  },
  {
   "cell_type": "markdown",
   "metadata": {},
   "source": [
    "Check another program to use the built-in `staticmethod()` function."
   ]
  },
  {
   "cell_type": "code",
   "execution_count": 1,
   "metadata": {},
   "outputs": [
    {
     "ename": "TypeError",
     "evalue": "unbound method age() must be called with Person instance as first argument (got int instance instead)",
     "output_type": "error",
     "traceback": [
      "\u001b[1;31m---------------------------------------------------------------------------\u001b[0m",
      "\u001b[1;31mTypeError\u001b[0m                                 Traceback (most recent call last)",
      "\u001b[1;32m<ipython-input-1-53c0a7525d2c>\u001b[0m in \u001b[0;36m<module>\u001b[1;34m()\u001b[0m\n\u001b[0;32m     16\u001b[0m \u001b[1;33m\u001b[0m\u001b[0m\n\u001b[0;32m     17\u001b[0m \u001b[0mJohn\u001b[0m \u001b[1;33m=\u001b[0m \u001b[0mPerson\u001b[0m\u001b[1;33m\u001b[0m\u001b[0m\n\u001b[1;32m---> 18\u001b[1;33m \u001b[0mage_category\u001b[0m \u001b[1;33m=\u001b[0m \u001b[0mstaticmethod\u001b[0m\u001b[1;33m(\u001b[0m\u001b[0mJohn\u001b[0m\u001b[1;33m.\u001b[0m\u001b[0mage\u001b[0m\u001b[1;33m(\u001b[0m\u001b[1;36m45\u001b[0m\u001b[1;33m)\u001b[0m\u001b[1;33m)\u001b[0m\u001b[1;33m\u001b[0m\u001b[0m\n\u001b[0m",
      "\u001b[1;31mTypeError\u001b[0m: unbound method age() must be called with Person instance as first argument (got int instance instead)"
     ]
    }
   ],
   "source": [
    "class Person:\n",
    "    \"\"\"\n",
    "    Class that defines a person who has an age defined by the age() method.\n",
    "    \"\"\"\n",
    "\n",
    "    def age(age_number):\n",
    "        if age_number <= 30:\n",
    "            print(\"Young\")\n",
    "\n",
    "        elif age_number <= 50:\n",
    "            print(\"Middle Age\")\n",
    "\n",
    "        else:\n",
    "            print(\"Senior Age\")\n",
    "\n",
    "\n",
    "John = Person\n",
    "age_category = staticmethod(John.age(45))"
   ]
  },
  {
   "cell_type": "markdown",
   "metadata": {},
   "source": [
    "## Next steps\n",
    "\n",
    "* **MANDATORY:** Now that you understand what is static method, let's dive deeper. For that, [read this article](https://www.programiz.com/python-programming/methods/built-in/staticmethod#:~:text=What%20is%20a%20static%20method,the%20state%20of%20the%20object.).\n",
    "* **MANDATORY:** Read about **class method**. You can read [this well made article](https://www.programiz.com/python-programming/methods/built-in/classmethod) or make your own research!"
   ]
  }
 ],
 "metadata": {
  "kernelspec": {
   "display_name": "Python 2",
   "language": "python",
   "name": "python2"
  },
  "language_info": {
   "codemirror_mode": {
    "name": "ipython",
    "version": 2
   },
   "file_extension": ".py",
   "mimetype": "text/x-python",
   "name": "python",
   "nbconvert_exporter": "python",
   "pygments_lexer": "ipython2",
   "version": "2.7.16"
  }
 },
 "nbformat": 4,
 "nbformat_minor": 2
}
