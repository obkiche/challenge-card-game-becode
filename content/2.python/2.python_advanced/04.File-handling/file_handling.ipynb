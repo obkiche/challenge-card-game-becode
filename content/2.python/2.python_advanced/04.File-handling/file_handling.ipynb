{
 "cells": [
  {
   "cell_type": "markdown",
   "metadata": {},
   "source": [
    "# Read and write files"
   ]
  },
  {
   "cell_type": "markdown",
   "metadata": {},
   "source": [
    "We have made good progress and now we can get down to the more serious task of manipulating files. This is one of the very important points concerning this training. \n",
    "\n",
    "\n",
    "N.B: Most of the files in `./data/` are files that we will use to understand how file opening works. They don't have a special purpose other than that. "
   ]
  },
  {
   "cell_type": "markdown",
   "metadata": {},
   "source": [
    "To open/edit a file in python we use the `open()` function.\n",
    "\n",
    "This function takes as first parameter the path of the file (*relative* or *absolute*) and as second parameter the type of opening, i.e. reading or writing mode.\n",
    "\n",
    "*A relative path in computing is a path that takes into account the current location.*\n",
    "The path is **relative** to where it is called from.\n",
    "\n",
    "*An absolute path is a complete path that can be read regardless of the reading location.*\n",
    "\n"
   ]
  },
  {
   "cell_type": "code",
   "execution_count": 3,
   "metadata": {},
   "outputs": [],
   "source": [
    "filename = \"./data/data.txt\"\n",
    "my_file = open(filename, \"r\")  # r for \"read\""
   ]
  },
  {
   "cell_type": "markdown",
   "metadata": {},
   "source": [
    "- `\"r\"`, for a read opening (READ).\n",
    "\n",
    "- `\"w\"`, for a write opening (WRITE), each time the file is opened, the content of the file is overwritten. If the file does not exist, Python creates it. \n",
    "\n",
    "    *The Python docs say that `w+` will \"overwrite the existing file if the file exists\". So as soon as you open a file with `w+`, it is now an empty file: it contains 0 bytes. If it used to contain data, that data has been truncated — cut off and thrown away — and now the file size is 0 bytes, so you can't read any of the data that existed before you opened the file with `w+`. If you actually wanted to read the previous data and add to it, you should use `r+` instead of `w+`* [[Source]](https://stackoverflow.com/questions/16208206/confused-by-python-file-mode-w#comment83227862_16208298)\n",
    "    \n",
    "    \n",
    "\n",
    "- `\"a\"`, for an opening in add mode at the end of the file (APPEND). If the file does not exist, Python creates it.\n",
    "\n",
    "- `\"x\"`, creates a new file and opens it for writing\n",
    "\n",
    "You can also append the character `+` and `b` to nearly all of the above commands. [[More info here]](https://stackabuse.com/file-handling-in-python/)"
   ]
  },
  {
   "cell_type": "markdown",
   "metadata": {},
   "source": [
    "Like any open element, it must be closed again once the instructions have been completed. To do this, we use the `close()` method."
   ]
  },
  {
   "cell_type": "code",
   "execution_count": 4,
   "metadata": {},
   "outputs": [],
   "source": [
    "my_file.close()"
   ]
  },
  {
   "cell_type": "code",
   "execution_count": 5,
   "metadata": {},
   "outputs": [
    {
     "name": "stdout",
     "output_type": "stream",
     "text": [
      "Hi everyone, I'm adding sentences to the file !\n"
     ]
    }
   ],
   "source": [
    "# Let's find out what's going on there\n",
    "my_file = open(filename, \"r\")\n",
    "print(my_file.read())\n",
    "my_file.close()"
   ]
  },
  {
   "cell_type": "markdown",
   "metadata": {},
   "source": [
    "Another possibility of opening without closing. That's a **best practice** and you should use that as much as you can."
   ]
  },
  {
   "cell_type": "code",
   "execution_count": 6,
   "metadata": {},
   "outputs": [
    {
     "name": "stdout",
     "output_type": "stream",
     "text": [
      "Hi everyone, I'm adding sentences to the file !\n"
     ]
    }
   ],
   "source": [
    "with open(filename, \"r\") as my_file:\n",
    "    print(my_file.read())"
   ]
  },
  {
   "cell_type": "markdown",
   "metadata": {},
   "source": [
    "**Can you put the contents of this file in the form of a list in which each element is a sentence ?**\n",
    "*(Use `.split()` for example...)*"
   ]
  },
  {
   "cell_type": "code",
   "execution_count": 26,
   "metadata": {},
   "outputs": [
    {
     "name": "stdout",
     "output_type": "stream",
     "text": [
      "Hi everyone, I'm adding sentences to the file !\u0000Z\u0002\u0000m\u0003\u0000Z\u0003\u0000m\u0004\u0000Z\u0004\u0000m\u0005\u0000Z\u0005\u0000m\u0006\u0000Z\u0006\u0000m\u0007\u0000Z\u0007\u0000m\b\u0000Z\b\u0000m\t\u0000Z\t\u0000m\n",
      "\u0000Z\n",
      "\u0000\u0001d\u0003\u0000d\u0004\u0000l\u000b",
      "\u0000m\f",
      "\u0000Z\f",
      "\u0000\u0001d\u0003\u0000d\u0005\u0000l\r",
      "\u0000m\u000e\u0000Z\u000e\u0000\u0001d\u0003\u0000d\u0006\u0000l\u000f\u0000m\u0010\u0000Z\u0010\u0000\u0001d\u0003\u0000d\u0007\u0000l\u0011\u0000m\u0012\u0000Z\u0012\u0000\u0001d\u0003\u0000d\b\u0000l\u0013\u0000m\u0014\u0000Z\u0014\u0000m\u0015\u0000Z\u0015\u0000\u0001d\u0003\u0000d\t\u0000l\u0016\u0000m\u0017\u0000Z\u0017\u0000m\u0018\u0000Z\u0018\u0000\u0001d\n",
      "\u0000�\u0000\u0000Z\u0019\u0000e\u0014\u0000d\u000b",
      "\u0000e\f",
      "\u0000e\u000e\u0000e\u0010\u0000f\u0003\u0000d\f",
      "\u0000�\u0000\u0000�\u0000\u0000Y�\u0001\u0000Z\n",
      "['Hi', 'everyone,', \"I'm\", 'adding', 'sentences', 'to', 'the', 'file', '!\\x00Z\\x02\\x00m\\x03\\x00Z\\x03\\x00m\\x04\\x00Z\\x04\\x00m\\x05\\x00Z\\x05\\x00m\\x06\\x00Z\\x06\\x00m\\x07\\x00Z\\x07\\x00m\\x08\\x00Z\\x08\\x00m', '\\x00Z', '\\x00m', '\\x00Z', '\\x00\\x01d\\x03\\x00d\\x04\\x00l', '\\x00m', '\\x00Z', '\\x00\\x01d\\x03\\x00d\\x05\\x00l', '\\x00m\\x0e\\x00Z\\x0e\\x00\\x01d\\x03\\x00d\\x06\\x00l\\x0f\\x00m\\x10\\x00Z\\x10\\x00\\x01d\\x03\\x00d\\x07\\x00l\\x11\\x00m\\x12\\x00Z\\x12\\x00\\x01d\\x03\\x00d\\x08\\x00l\\x13\\x00m\\x14\\x00Z\\x14\\x00m\\x15\\x00Z\\x15\\x00\\x01d\\x03\\x00d', '\\x00l\\x16\\x00m\\x17\\x00Z\\x17\\x00m\\x18\\x00Z\\x18\\x00\\x01d', '\\x00\\x84\\x00\\x00Z\\x19\\x00e\\x14\\x00d', '\\x00e', '\\x00e\\x0e\\x00e\\x10\\x00f\\x03\\x00d', '\\x00\\x84\\x00\\x00\\x83\\x00\\x00Y\\x83\\x01\\x00Z']\n"
     ]
    }
   ],
   "source": [
    "# YOUR CODE HERE\n",
    "with open(\"./data/data.txt\", \"r\") as my_file:\n",
    "    myfile = my_file.read()\n",
    "    print(myfile)\n",
    "    m = myfile.split()\n",
    "my_file.close()\n",
    "print(m)\n"
   ]
  },
  {
   "cell_type": "markdown",
   "metadata": {},
   "source": [
    "To write in a file, just open a file (existing or not), write in it and close it. We open it in mode `\"w\"` so that the previous data is deleted and new data can be added."
   ]
  },
  {
   "cell_type": "code",
   "execution_count": 19,
   "metadata": {},
   "outputs": [
    {
     "ename": "TypeError",
     "evalue": "file() argument 1 must be encoded string without null bytes, not str",
     "output_type": "error",
     "traceback": [
      "\u001b[1;31m---------------------------------------------------------------------------\u001b[0m",
      "\u001b[1;31mTypeError\u001b[0m                                 Traceback (most recent call last)",
      "\u001b[1;32m<ipython-input-19-600eccb98619>\u001b[0m in \u001b[0;36m<module>\u001b[1;34m()\u001b[0m\n\u001b[1;32m----> 1\u001b[1;33m \u001b[0mfile\u001b[0m \u001b[1;33m=\u001b[0m \u001b[0mopen\u001b[0m\u001b[1;33m(\u001b[0m\u001b[0mmyfile\u001b[0m\u001b[1;33m,\u001b[0m \u001b[1;34m\"w+\"\u001b[0m\u001b[1;33m)\u001b[0m\u001b[1;33m\u001b[0m\u001b[0m\n\u001b[0m\u001b[0;32m      2\u001b[0m \u001b[1;32mprint\u001b[0m\u001b[1;33m(\u001b[0m\u001b[0mfile\u001b[0m\u001b[1;33m.\u001b[0m\u001b[0mread\u001b[0m\u001b[1;33m(\u001b[0m\u001b[1;33m)\u001b[0m\u001b[1;33m)\u001b[0m\u001b[1;33m\u001b[0m\u001b[0m\n\u001b[0;32m      3\u001b[0m \u001b[0mfile\u001b[0m\u001b[1;33m.\u001b[0m\u001b[0mwrite\u001b[0m\u001b[1;33m(\u001b[0m\u001b[1;34m\"Hi everyone, I'm adding sentences to the file !\"\u001b[0m\u001b[1;33m)\u001b[0m\u001b[1;33m\u001b[0m\u001b[0m\n\u001b[0;32m      4\u001b[0m \u001b[1;32mprint\u001b[0m\u001b[1;33m(\u001b[0m\u001b[0mfile\u001b[0m\u001b[1;33m.\u001b[0m\u001b[0mread\u001b[0m\u001b[1;33m(\u001b[0m\u001b[1;33m)\u001b[0m\u001b[1;33m)\u001b[0m\u001b[1;33m\u001b[0m\u001b[0m\n\u001b[0;32m      5\u001b[0m \u001b[1;33m\u001b[0m\u001b[0m\n",
      "\u001b[1;31mTypeError\u001b[0m: file() argument 1 must be encoded string without null bytes, not str"
     ]
    }
   ],
   "source": [
    "file = open(myfile, \"w+\")\n",
    "print(file.read())\n",
    "file.write(\"Hi everyone, I'm adding sentences to the file !\")\n",
    "print(file.read())\n",
    "\n",
    "file.close()"
   ]
  },
  {
   "cell_type": "markdown",
   "metadata": {},
   "source": [
    "Can you take the content of the `data.txt` file from the `.data/` directory, capitalize all the words and write them in the file that you created just before, after the sentences you added?\n"
   ]
  },
  {
   "cell_type": "code",
   "execution_count": 1,
   "metadata": {},
   "outputs": [
    {
     "ename": "NameError",
     "evalue": "name 'filename' is not defined",
     "output_type": "error",
     "traceback": [
      "\u001b[1;31m---------------------------------------------------------------------------\u001b[0m",
      "\u001b[1;31mNameError\u001b[0m                                 Traceback (most recent call last)",
      "\u001b[1;32m<ipython-input-1-60ceba1fdb96>\u001b[0m in \u001b[0;36m<module>\u001b[1;34m()\u001b[0m\n\u001b[0;32m      3\u001b[0m \u001b[0mmyString\u001b[0m \u001b[1;33m=\u001b[0m \u001b[1;34m\"\"\u001b[0m\u001b[1;33m\u001b[0m\u001b[0m\n\u001b[0;32m      4\u001b[0m \u001b[1;33m\u001b[0m\u001b[0m\n\u001b[1;32m----> 5\u001b[1;33m \u001b[1;32mwith\u001b[0m \u001b[0mopen\u001b[0m\u001b[1;33m(\u001b[0m\u001b[0mfilename\u001b[0m\u001b[1;33m,\u001b[0m \u001b[1;34m\"r+\"\u001b[0m\u001b[1;33m)\u001b[0m \u001b[1;32mas\u001b[0m \u001b[0minput_file\u001b[0m\u001b[1;33m:\u001b[0m\u001b[1;33m\u001b[0m\u001b[0m\n\u001b[0m\u001b[0;32m      6\u001b[0m     \u001b[0mmylist\u001b[0m \u001b[1;33m=\u001b[0m \u001b[0minput_file\u001b[0m\u001b[1;33m.\u001b[0m\u001b[0mread\u001b[0m\u001b[1;33m(\u001b[0m\u001b[1;33m)\u001b[0m\u001b[1;33m.\u001b[0m\u001b[0msplit\u001b[0m\u001b[1;33m(\u001b[0m\u001b[1;33m)\u001b[0m\u001b[1;33m\u001b[0m\u001b[0m\n\u001b[0;32m      7\u001b[0m \u001b[1;33m\u001b[0m\u001b[0m\n",
      "\u001b[1;31mNameError\u001b[0m: name 'filename' is not defined"
     ]
    }
   ],
   "source": [
    "# It's up to you to write the end\n",
    "array = []\n",
    "myString = \"\"\n",
    "\n",
    "with open(filename, \"r+\") as input_file:\n",
    "    mylist = input_file.read().split()\n",
    "\n",
    "    for elt in mylist:\n",
    "        \n",
    "        array.append(elt.capitalize())\n",
    "        myString = \" \".join(array)\n",
    "    print(myString) \n",
    "file = open(myfile, \"w+\")\n",
    "file.write(myString)\n",
    "\n",
    "\n",
    "    \n",
    "# Add your code"
   ]
  },
  {
   "cell_type": "markdown",
   "metadata": {},
   "source": [
    "## Management of directory paths..."
   ]
  },
  {
   "cell_type": "markdown",
   "metadata": {},
   "source": [
    "The `os` module is a library that provides a portable way of using operating system dependent functionality.\n",
    "In this chapter, we are interested in using its powerful file path handling capabilities using `os.path`."
   ]
  },
  {
   "cell_type": "code",
   "execution_count": 41,
   "metadata": {},
   "outputs": [],
   "source": [
    "import os"
   ]
  },
  {
   "cell_type": "markdown",
   "metadata": {},
   "source": [
    "Each file or folder is associated with a kind of address that makes it easy to find it without errors. It is not possible to have a file with an identical name as another inside the same folder (except if the file extension is different).\n",
    "\n",
    "As said before, there are two kinds of paths: the absolute path from the root of your file system and the relative path from the folder being read."
   ]
  },
  {
   "cell_type": "markdown",
   "metadata": {},
   "source": [
    "By using `help` function, we can see the available methods."
   ]
  },
  {
   "cell_type": "code",
   "execution_count": 42,
   "metadata": {},
   "outputs": [
    {
     "name": "stdout",
     "output_type": "stream",
     "text": [
      "Help on module ntpath:\n",
      "\n",
      "NAME\n",
      "    ntpath - Common pathname manipulations, WindowsNT/95 version.\n",
      "\n",
      "FILE\n",
      "    c:\\programdata\\anaconda2\\lib\\ntpath.py\n",
      "\n",
      "DESCRIPTION\n",
      "    Instead of importing this module directly, import os and refer to this\n",
      "    module as os.path.\n",
      "\n",
      "FUNCTIONS\n",
      "    abspath(path)\n",
      "        Return the absolute version of a path.\n",
      "    \n",
      "    basename(p)\n",
      "        Returns the final component of a pathname\n",
      "    \n",
      "    commonprefix(m)\n",
      "        Given a list of pathnames, returns the longest common leading component\n",
      "    \n",
      "    dirname(p)\n",
      "        Returns the directory component of a pathname\n",
      "    \n",
      "    exists(path)\n",
      "        Test whether a path exists.  Returns False for broken symbolic links\n",
      "    \n",
      "    expanduser(path)\n",
      "        Expand ~ and ~user constructs.\n",
      "        \n",
      "        If user or $HOME is unknown, do nothing.\n",
      "    \n",
      "    expandvars(path)\n",
      "        Expand shell variables of the forms $var, ${var} and %var%.\n",
      "        \n",
      "        Unknown variables are left unchanged.\n",
      "    \n",
      "    getatime(filename)\n",
      "        Return the last access time of a file, reported by os.stat().\n",
      "    \n",
      "    getctime(filename)\n",
      "        Return the metadata change time of a file, reported by os.stat().\n",
      "    \n",
      "    getmtime(filename)\n",
      "        Return the last modification time of a file, reported by os.stat().\n",
      "    \n",
      "    getsize(filename)\n",
      "        Return the size of a file, reported by os.stat().\n",
      "    \n",
      "    isabs(s)\n",
      "        Test whether a path is absolute\n",
      "    \n",
      "    isdir = _isdir(...)\n",
      "        Return true if the pathname refers to an existing directory.\n",
      "    \n",
      "    isfile(path)\n",
      "        Test whether a path is a regular file\n",
      "    \n",
      "    islink(path)\n",
      "        Test for symbolic link.\n",
      "        On WindowsNT/95 and OS/2 always returns false\n",
      "    \n",
      "    ismount(path)\n",
      "        Test whether a path is a mount point (defined as root of drive)\n",
      "    \n",
      "    join(path, *paths)\n",
      "        Join two or more pathname components, inserting \"\\\" as needed.\n",
      "    \n",
      "    lexists = exists(path)\n",
      "        Test whether a path exists.  Returns False for broken symbolic links\n",
      "    \n",
      "    normcase(s)\n",
      "        Normalize case of pathname.\n",
      "        \n",
      "        Makes all characters lowercase and all slashes into backslashes.\n",
      "    \n",
      "    normpath(path)\n",
      "        Normalize path, eliminating double slashes, etc.\n",
      "    \n",
      "    realpath = abspath(path)\n",
      "        Return the absolute version of a path.\n",
      "    \n",
      "    relpath(path, start='.')\n",
      "        Return a relative version of a path\n",
      "    \n",
      "    split(p)\n",
      "        Split a pathname.\n",
      "        \n",
      "        Return tuple (head, tail) where tail is everything after the final slash.\n",
      "        Either part may be empty.\n",
      "    \n",
      "    splitdrive(p)\n",
      "        Split a pathname into drive/UNC sharepoint and relative path specifiers.\n",
      "        Returns a 2-tuple (drive_or_unc, path); either part may be empty.\n",
      "        \n",
      "        If you assign\n",
      "            result = splitdrive(p)\n",
      "        It is always true that:\n",
      "            result[0] + result[1] == p\n",
      "        \n",
      "        If the path contained a drive letter, drive_or_unc will contain everything\n",
      "        up to and including the colon.  e.g. splitdrive(\"c:/dir\") returns (\"c:\", \"/dir\")\n",
      "        \n",
      "        If the path contained a UNC path, the drive_or_unc will contain the host name\n",
      "        and share up to but not including the fourth directory separator character.\n",
      "        e.g. splitdrive(\"//host/computer/dir\") returns (\"//host/computer\", \"/dir\")\n",
      "        \n",
      "        Paths cannot contain both a drive letter and a UNC path.\n",
      "    \n",
      "    splitext(p)\n",
      "        Split the extension from a pathname.\n",
      "        \n",
      "        Extension is everything from the last dot to the end, ignoring\n",
      "        leading dots.  Returns \"(root, ext)\"; ext may be empty.\n",
      "    \n",
      "    splitunc(p)\n",
      "        Split a pathname into UNC mount point and relative path specifiers.\n",
      "        \n",
      "        Return a 2-tuple (unc, rest); either part may be empty.\n",
      "        If unc is not empty, it has the form '//host/mount' (or similar\n",
      "        using backslashes).  unc+rest is always the input path.\n",
      "        Paths containing drive letters never have a UNC part.\n",
      "    \n",
      "    walk(top, func, arg)\n",
      "        Directory tree walk with callback function.\n",
      "        \n",
      "        For each directory in the directory tree rooted at top (including top\n",
      "        itself, but excluding '.' and '..'), call func(arg, dirname, fnames).\n",
      "        dirname is the name of the directory, and fnames a list of the names of\n",
      "        the files and subdirectories in dirname (excluding '.' and '..').  func\n",
      "        may modify the fnames list in-place (e.g. via del or slice assignment),\n",
      "        and walk will only recurse into the subdirectories whose names remain in\n",
      "        fnames; this can be used to implement a filter, or to impose a specific\n",
      "        order of visiting.  No semantics are defined for, or required of, arg,\n",
      "        beyond that arg is always passed to func.  It can be used, e.g., to pass\n",
      "        a filename pattern, or a mutable object designed to accumulate\n",
      "        statistics.  Passing None for arg is common.\n",
      "\n",
      "DATA\n",
      "    __all__ = ['normcase', 'isabs', 'join', 'splitdrive', 'split', 'splite...\n",
      "    altsep = '/'\n",
      "    curdir = '.'\n",
      "    defpath = r'.;C:\\bin'\n",
      "    devnull = 'nul'\n",
      "    extsep = '.'\n",
      "    pardir = '..'\n",
      "    pathsep = ';'\n",
      "    sep = r'\\'\n",
      "    supports_unicode_filenames = True\n",
      "\n",
      "\n"
     ]
    }
   ],
   "source": [
    "help(os.path)"
   ]
  },
  {
   "cell_type": "markdown",
   "metadata": {},
   "source": [
    "To know your current absolute path, use `abspath('')`"
   ]
  },
  {
   "cell_type": "code",
   "execution_count": 45,
   "metadata": {},
   "outputs": [
    {
     "name": "stdout",
     "output_type": "stream",
     "text": [
      "C:\\Users\\Malika\\BecodeProjects\\GNT-Arai-3-main\\content\\2.python\\2.python_advanced\\04.File-handling\n",
      "<type 'str'>\n"
     ]
    }
   ],
   "source": [
    "# In Python a path is a string, so there are methods to manipulate it.\n",
    "path = os.path.abspath(\"\")\n",
    "print(path)\n",
    "print(type(path))"
   ]
  },
  {
   "cell_type": "markdown",
   "metadata": {},
   "source": [
    " To know the part of the path that consists of directories, use `dirname(path)`."
   ]
  },
  {
   "cell_type": "code",
   "execution_count": 46,
   "metadata": {},
   "outputs": [
    {
     "data": {
      "text/plain": [
       "'C:\\\\Users\\\\Malika\\\\BecodeProjects\\\\GNT-Arai-3-main\\\\content\\\\2.python\\\\2.python_advanced'"
      ]
     },
     "execution_count": 46,
     "metadata": {},
     "output_type": "execute_result"
    }
   ],
   "source": [
    "os.path.dirname(path)"
   ]
  },
  {
   "cell_type": "markdown",
   "metadata": {},
   "source": [
    "To only get the filename, use `basename(path)`."
   ]
  },
  {
   "cell_type": "code",
   "execution_count": 47,
   "metadata": {},
   "outputs": [
    {
     "data": {
      "text/plain": [
       "'04.File-handling'"
      ]
     },
     "execution_count": 47,
     "metadata": {},
     "output_type": "execute_result"
    }
   ],
   "source": [
    "os.path.basename(path)"
   ]
  },
  {
   "cell_type": "markdown",
   "metadata": {},
   "source": [
    "To add a directory, let's say `\"text\"` to the path, we use `join()`. \n",
    "\n",
    "The cool thing is that it is compatible across operating systems. Meaning that on Windows it will automatically add `\\` between the arguments of `os.path.join`, and on Linux it will add `/`. The same code thus works on every operating system!"
   ]
  },
  {
   "cell_type": "code",
   "execution_count": 48,
   "metadata": {},
   "outputs": [
    {
     "name": "stdout",
     "output_type": "stream",
     "text": [
      "C:\\Users\\Malika\\BecodeProjects\\GNT-Arai-3-main\\content\\2.python\\2.python_advanced\\04.File-handling\\text\n"
     ]
    }
   ],
   "source": [
    "rep_text = os.path.join(path, \"text\")\n",
    "print(rep_text)"
   ]
  },
  {
   "cell_type": "markdown",
   "metadata": {},
   "source": [
    "To retrieve all the elements of a folder as a list, you can use the `listdir()` method."
   ]
  },
  {
   "cell_type": "code",
   "execution_count": 49,
   "metadata": {},
   "outputs": [
    {
     "data": {
      "text/plain": [
       "['01.OOP',\n",
       " '02.Exception-handling',\n",
       " '03.Regex',\n",
       " '04.File-handling',\n",
       " '05.Scraping',\n",
       " '06.Threading',\n",
       " '07.Decorator',\n",
       " '08.Typing',\n",
       " '09.Good_practices',\n",
       " '10.Data-structure',\n",
       " '11.unittest']"
      ]
     },
     "execution_count": 49,
     "metadata": {},
     "output_type": "execute_result"
    }
   ],
   "source": [
    "# Items are returned as a list and includes folders and hidden files.\n",
    "os.listdir(\"../\")"
   ]
  },
  {
   "cell_type": "markdown",
   "metadata": {},
   "source": [
    "### How to display all the elements of a folder as well as its child folders? \n",
    "\n",
    "With the `walk()` function:\n",
    "\n",
    "```\n",
    "walk(top, topdown=True, onerror=None, followlinks=False)\n",
    "```\n"
   ]
  },
  {
   "cell_type": "code",
   "execution_count": 50,
   "metadata": {},
   "outputs": [
    {
     "name": "stdout",
     "output_type": "stream",
     "text": [
      "C:\\Users\\Malika\\BecodeProjects\\GNT-Arai-3-main\\content\\2.python\\2.python_advanced\\04.File-handling\n",
      "file_handling.ipynb\n",
      "Hi everyone, I'm adding sentences to the file !\n",
      "file_handling-checkpoint.ipynb\n",
      "comptagevelo2017.csv\n",
      "comptagevelo2017.xlsx\n",
      "data.txt\n",
      "discours_politicien.zip\n",
      "L'�quipe,du sport en continu..html\n",
      "mail.txt\n",
      "VOEUX01.txt\n",
      "VOEUX05.txt\n",
      "VOEUX06.txt\n",
      "VOEUX07.txt\n",
      "VOEUX08.txt\n",
      "VOEUX09.txt\n",
      "VOEUX74.txt\n",
      "VOEUX75.txt\n",
      "VOEUX79.txt\n",
      "VOEUX83.txt\n",
      "VOEUX87.txt\n",
      "VOEUX89.txt\n",
      "VOEUX90.txt\n",
      "VOEUX94.txt\n",
      "weather_2012.csv\n",
      "weather_2017.csv\n",
      "write.txt\n",
      "0a315.jpg\n",
      "0CA20181029124202ADs201810291242024F98d8q4aBxcs.js\n",
      "0d3f9.png\n",
      "0f245.jpg\n",
      "110.png\n",
      "125278988146629\n",
      "140(1).jpg\n",
      "140(10).jpg\n",
      "140(11).jpg\n",
      "140(2).jpg\n",
      "140(3).jpg\n",
      "140(4).jpg\n",
      "140(5).jpg\n",
      "140(6).jpg\n",
      "140(7).jpg\n",
      "140(8).jpg\n",
      "140(9).jpg\n",
      "140.jpg\n",
      "1ce06.jpg\n",
      "1x1.a\n",
      "201b8.jpg\n",
      "20d4b.jpg\n",
      "226ee.jpg\n",
      "2402-245398-48616-4(1).gif\n",
      "2402-245398-48616-4.gif\n",
      "275(1).jpg\n",
      "275(2).jpg\n",
      "275(3).jpg\n",
      "275(4).jpg\n",
      "275(5).jpg\n",
      "275.jpg\n",
      "30b06.jpg\n",
      "3b4c8.jpg\n",
      "3c6f0.jpg\n",
      "44ddc.jpg\n",
      "49d3b.jpg\n",
      "4f412.jpg\n",
      "6636b.jpg\n",
      "67b5b.jpg\n",
      "6f4bb.jpg\n",
      "6uQTKQJz(1).html\n",
      "6uQTKQJz.html\n",
      "800(1).jpg\n",
      "800.jpg\n",
      "ads-cch-20181026165210.js\n",
      "f(10).txt\n",
      "f(2).txt\n",
      "f(3).txt\n",
      "f(4).txt\n",
      "f(5).txt\n",
      "f(6).txt\n",
      "f(7).txt\n",
      "f(8).txt\n",
      "f(9).txt\n",
      "f.txt\n",
      "f21a9.jpg\n",
      "f3de7.jpg\n",
      "fb0a7.jpg\n",
      "fbevents.js\n",
      "gather_id\n",
      "gather_id(1)\n",
      "gen_204(1).gif\n",
      "gen_204.gif\n",
      "get\n",
      "get(1)\n",
      "get(2)\n",
      "getids\n",
      "gpt.js\n",
      "guid.html\n",
      "html_inpage_rendering_lib_200_243.js\n",
      "hudactive.html\n",
      "styles.css\n",
      "SVG-EFR(1).svg\n",
      "SVG-EFR.svg\n",
      "tag.min.js\n",
      "V6zvOIoD.js\n",
      "wamfactory_dpm.lequipe.min.js\n",
      "widget.css\n",
      "widget.js\n",
      "widgetGlobalEvent\n",
      "widgetGlobalEvent(1)\n",
      "widgetGlobalEvent(2)\n",
      "wonderpush-loader.min.js\n",
      "wonderpush.min.html\n",
      "wonderpush.min.js\n"
     ]
    }
   ],
   "source": [
    "folder_path = os.path.abspath(\"./\")\n",
    "print(folder_path)\n",
    "\n",
    "for path, dirs, files in os.walk(folder_path):\n",
    "    for filename in files:\n",
    "        print(filename)"
   ]
  },
  {
   "cell_type": "markdown",
   "metadata": {},
   "source": [
    "Put all the **`.txt` files** from the `data/` directory into a variable.\n",
    "    Then, copy the content of all the files from this variable into a file in `data/` that you will name `final.txt`.\n"
   ]
  },
  {
   "cell_type": "code",
   "execution_count": 88,
   "metadata": {},
   "outputs": [
    {
     "name": "stdout",
     "output_type": "stream",
     "text": [
      "['data.txt', 'mail.txt', 'VOEUX01.txt', 'VOEUX05.txt', 'VOEUX06.txt', 'VOEUX07.txt', 'VOEUX08.txt', 'VOEUX09.txt', 'VOEUX74.txt', 'VOEUX75.txt', 'VOEUX79.txt', 'VOEUX83.txt', 'VOEUX87.txt', 'VOEUX89.txt', 'VOEUX90.txt', 'VOEUX94.txt', 'write.txt']\n",
      "data/data.txt\n",
      "data/mail.txt\n",
      "data/VOEUX01.txt\n",
      "data/VOEUX05.txt\n",
      "data/VOEUX06.txt\n",
      "data/VOEUX07.txt\n",
      "data/VOEUX08.txt\n",
      "data/VOEUX09.txt\n",
      "data/VOEUX74.txt\n",
      "data/VOEUX75.txt\n",
      "data/VOEUX79.txt\n",
      "data/VOEUX83.txt\n",
      "data/VOEUX87.txt\n",
      "data/VOEUX89.txt\n",
      "data/VOEUX90.txt\n",
      "data/VOEUX94.txt\n",
      "data/write.txt\n"
     ]
    }
   ],
   "source": [
    "import os, re\n",
    "textFiles = []\n",
    "files = os.listdir(\"data/\")\n",
    "for name in files:\n",
    "    \n",
    "    if re.findall(r\".txt\\b\", name):\n",
    "        textFiles.append(name)\n",
    "print(textFiles)\n",
    "data = \"\"\n",
    "for file in textFiles:\n",
    "   \n",
    "    filePath = os.path.join(\"data/\",file)\n",
    "    with open(filePath, \"r\") as f:\n",
    "        print(filePath)\n",
    "        data += f.read()\n",
    "#print(data)\n",
    "\n",
    "with open(\"final.txt\", \"w\") as f:\n",
    "    f.write(data) \n",
    "    \n",
    "    \n"
   ]
  },
  {
   "cell_type": "markdown",
   "metadata": {},
   "source": [
    "New task. Using a loop, can you open all the files from your `data/` directory and save all their contents in a variable ?"
   ]
  },
  {
   "cell_type": "code",
   "execution_count": 87,
   "metadata": {},
   "outputs": [
    {
     "name": "stdout",
     "output_type": "stream",
     "text": [
      "['comptagevelo2017.csv', 'comptagevelo2017.xlsx', 'data.txt', 'discours_politicien.zip', \"L'\\xe9quipe,du sport en continu..html\", 'lequipe-du sport en continu._files', 'mail.txt', 'VOEUX01.txt', 'VOEUX05.txt', 'VOEUX06.txt', 'VOEUX07.txt', 'VOEUX08.txt', 'VOEUX09.txt', 'VOEUX74.txt', 'VOEUX75.txt', 'VOEUX79.txt', 'VOEUX83.txt', 'VOEUX87.txt', 'VOEUX89.txt', 'VOEUX90.txt', 'VOEUX94.txt', 'weather_2012.csv', 'weather_2017.csv', 'write.txt']\n",
      "comptagevelo2017.csv\n",
      "data/comptagevelo2017.csv\n",
      "comptagevelo2017.xlsx\n",
      "data/comptagevelo2017.xlsx\n",
      "data.txt\n",
      "data/data.txt\n",
      "discours_politicien.zip\n",
      "data/discours_politicien.zip\n",
      "L'�quipe,du sport en continu..html\n",
      "data/L'�quipe,du sport en continu..html\n",
      "lequipe-du sport en continu._files\n"
     ]
    },
    {
     "ename": "IOError",
     "evalue": "[Errno 13] Permission denied: 'data/lequipe-du sport en continu._files'",
     "output_type": "error",
     "traceback": [
      "\u001b[1;31m---------------------------------------------------------------------------\u001b[0m",
      "\u001b[1;31mIOError\u001b[0m                                   Traceback (most recent call last)",
      "\u001b[1;32m<ipython-input-87-2f7dcdd72314>\u001b[0m in \u001b[0;36m<module>\u001b[1;34m()\u001b[0m\n\u001b[0;32m      9\u001b[0m     \u001b[0mfilePath\u001b[0m \u001b[1;33m=\u001b[0m \u001b[0mos\u001b[0m\u001b[1;33m.\u001b[0m\u001b[0mpath\u001b[0m\u001b[1;33m.\u001b[0m\u001b[0mjoin\u001b[0m\u001b[1;33m(\u001b[0m\u001b[1;34m\"data/\"\u001b[0m\u001b[1;33m,\u001b[0m \u001b[0mfile\u001b[0m\u001b[1;33m)\u001b[0m\u001b[1;33m\u001b[0m\u001b[0m\n\u001b[0;32m     10\u001b[0m \u001b[1;33m\u001b[0m\u001b[0m\n\u001b[1;32m---> 11\u001b[1;33m     \u001b[1;32mwith\u001b[0m \u001b[0mopen\u001b[0m\u001b[1;33m(\u001b[0m\u001b[0mfilePath\u001b[0m\u001b[1;33m,\u001b[0m \u001b[1;34m\"r\"\u001b[0m\u001b[1;33m)\u001b[0m \u001b[1;32mas\u001b[0m \u001b[0mf\u001b[0m\u001b[1;33m:\u001b[0m\u001b[1;33m\u001b[0m\u001b[0m\n\u001b[0m\u001b[0;32m     12\u001b[0m         \u001b[1;32mprint\u001b[0m \u001b[1;33m(\u001b[0m\u001b[0mfilePath\u001b[0m\u001b[1;33m)\u001b[0m\u001b[1;33m\u001b[0m\u001b[0m\n\u001b[0;32m     13\u001b[0m         \u001b[0mdataa\u001b[0m \u001b[1;33m+=\u001b[0m \u001b[0mf\u001b[0m\u001b[1;33m.\u001b[0m\u001b[0mread\u001b[0m\u001b[1;33m(\u001b[0m\u001b[1;33m)\u001b[0m\u001b[1;33m\u001b[0m\u001b[0m\n",
      "\u001b[1;31mIOError\u001b[0m: [Errno 13] Permission denied: 'data/lequipe-du sport en continu._files'"
     ]
    }
   ],
   "source": [
    "import os\n",
    "dataa = \"\"\n",
    "\n",
    "files = os.listdir(\"data/\")\n",
    "print(files)\n",
    "\n",
    "for file in files :\n",
    "    print(file)\n",
    "    filePath = os.path.join(\"data/\", file)\n",
    "    \n",
    "    with open(filePath, \"r\") as f:\n",
    "        print (filePath)\n",
    "        dataa += f.read()\n",
    "print(\"++++\")\n",
    "print(dataa)\n",
    "            \n",
    "    "
   ]
  },
  {
   "cell_type": "markdown",
   "metadata": {},
   "source": [
    "Finally, save this concatenated information (assemblies) in a new file."
   ]
  },
  {
   "cell_type": "code",
   "execution_count": null,
   "metadata": {},
   "outputs": [],
   "source": []
  }
 ],
 "metadata": {
  "kernelspec": {
   "display_name": "Python 2",
   "language": "python",
   "name": "python2"
  },
  "language_info": {
   "codemirror_mode": {
    "name": "ipython",
    "version": 2
   },
   "file_extension": ".py",
   "mimetype": "text/x-python",
   "name": "python",
   "nbconvert_exporter": "python",
   "pygments_lexer": "ipython2",
   "version": "2.7.16"
  }
 },
 "nbformat": 4,
 "nbformat_minor": 2
}
